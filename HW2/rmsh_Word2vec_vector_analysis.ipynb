{
 "cells": [
  {
   "cell_type": "markdown",
   "metadata": {},
   "source": [
    "# Homework 2: Word2vec Vector Analysis\n",
    "\n",
    "*Important Note:* Start this notebook only after you've gotten your word2vec model up and running!\n",
    "\n",
    "Many NLP packages support working with word embeddings. In this notebook you can work through the various problems assigned in Task 3. We've provided the basic functionality for loading word vectors using [Gensim](https://radimrehurek.com/gensim/models/keyedvectors.html), a good library for learning and using word vectors, and for working with the vectors. \n",
    "\n",
    "One of the fun parts of word vectors is getting a sense of what they learned. Feel free to explore the vectors here!"
   ]
  },
  {
   "cell_type": "code",
   "execution_count": 207,
   "metadata": {},
   "outputs": [],
   "source": [
    "from gensim.models import KeyedVectors\n",
    "from gensim.test.utils import datapath"
   ]
  },
  {
   "cell_type": "code",
   "execution_count": 211,
   "metadata": {},
   "outputs": [],
   "source": [
    "word_vectors = KeyedVectors.load_word2vec_format('ramesh_model.kv', binary=False)"
   ]
  },
  {
   "cell_type": "code",
   "execution_count": 212,
   "metadata": {},
   "outputs": [
    {
     "data": {
      "text/plain": [
       "array([-0.10303952,  0.04009061, -0.10435981, -0.07759645, -0.16268092,\n",
       "        0.20091687, -0.06944567, -0.33148867,  0.56728464, -0.1494151 ,\n",
       "       -0.10610921, -0.03272486,  0.12238362,  0.6070804 ,  0.21339868,\n",
       "        0.10067664, -0.08225233,  0.35422823,  0.1400205 , -0.15616676,\n",
       "       -0.6537478 ,  0.33597958,  0.1666118 ,  0.26063898,  0.20925772,\n",
       "       -0.41592118, -0.09444357,  0.3417436 , -0.6054658 , -0.00654052,\n",
       "       -0.01527169, -0.05783877, -0.18822592,  0.18664272, -0.07489329,\n",
       "        0.0916964 ,  0.35753798,  0.7452572 ,  0.06214983, -0.10686078,\n",
       "       -0.05402609, -0.8229823 , -0.1213443 ,  0.24161588,  0.26785925,\n",
       "       -0.5015924 , -0.08506092, -0.2960722 ,  0.07593203,  0.35370028],\n",
       "      dtype=float32)"
      ]
     },
     "execution_count": 212,
     "metadata": {},
     "output_type": "execute_result"
    }
   ],
   "source": [
    "word_vectors['the']"
   ]
  },
  {
   "cell_type": "code",
   "execution_count": 215,
   "metadata": {},
   "outputs": [
    {
     "name": "stdout",
     "output_type": "stream",
     "text": [
      "[('manga', 0.8695821762084961), ('comics', 0.8349646329879761), ('book', 0.8194869160652161), ('harry', 0.8060429692268372), ('hobbit', 0.8046316504478455), ('bourne', 0.7959753274917603), ('dr', 0.7956136465072632), ('sopranos', 0.7837573289871216), ('japanese', 0.7823672890663147), ('dracula', 0.7823129892349243)]\n",
      "[('towers', 0.9549080729484558), ('frog', 0.9275572896003723), ('files', 0.9271109700202942), ('presidents', 0.9230116009712219), ('shorts', 0.9223611354827881), ('max', 0.9160920977592468), ('toons', 0.9158675074577332), ('programs', 0.914743959903717), ('bands', 0.9133871793746948), ('operas', 0.909442663192749)]\n",
      "[('evils', 0.9756735563278198), ('lions', 0.9754013419151306), ('horsemen', 0.9745323657989502), ('slang', 0.9743597507476807), ('tours', 0.9739300608634949), ('scence', 0.9737759232521057), ('prehistoric', 0.9735289216041565), ('criminal', 0.9732224345207214), ('joanna', 0.9728150963783264), ('natives', 0.9727157354354858)]\n",
      "[('web', 0.9221287369728088), ('treadmill', 0.9202349781990051), ('internet', 0.9140246510505676), ('floor', 0.913364827632904), ('showtime', 0.9125092029571533), ('loop', 0.9083146452903748), ('canada', 0.9080228805541992), ('shelves', 0.9079892635345459), ('front', 0.90678870677948), ('mtv', 0.9053652882575989)]\n",
      "[('ps3', 0.9617407321929932), ('laptop', 0.9449999928474426), ('pc', 0.9446155428886414), ('shelf', 0.9399892091751099), ('ipad', 0.9393460154533386), ('tablet', 0.9378427267074585), ('machine', 0.9336431622505188), ('dvr', 0.9327388405799866), ('internet', 0.929623007774353), ('xbox', 0.9272454380989075)]\n",
      "[('crime', 0.9367630481719971), ('fantasy', 0.9331983327865601), ('sports', 0.9180110692977905), ('monster', 0.9128415584564209), ('supernatural', 0.9100304841995239), ('martial', 0.908328652381897), ('spy', 0.9077861309051514), ('triangle', 0.9034052491188049), ('sherlock', 0.9007561206817627), ('paranormal', 0.8973702788352966)]\n",
      "[('comment', 0.8322588801383972), ('exchange', 0.8140755295753479), ('critique', 0.8015282154083252), ('wider', 0.8004860281944275), ('waist', 0.8004328608512878), ('ticket', 0.7948086261749268), ('feedback', 0.7943738102912903), ('blockbuster', 0.7926138043403625), ('cause', 0.7914323210716248), ('grip', 0.79066401720047)]\n",
      "[('nother', 0.976091742515564), ('glimps', 0.9747901558876038), ('staunch', 0.9743123650550842), ('drastic', 0.9739465713500977), ('quieter', 0.9738653898239136), ('rollicking', 0.9732582569122314), ('notation', 0.9730541110038757), ('decrease', 0.9730165600776672), ('glimmer', 0.9727399945259094), ('sordid', 0.9721736311912537)]\n",
      "[('heck', 0.9175034761428833), ('suggests', 0.8454263210296631), ('fragile', 0.8401968479156494), ('happens', 0.8271268010139465), ('miserable', 0.8205094337463379), ('unfolded', 0.8113061189651489), ('nobody', 0.8096596598625183), ('ridley', 0.807946503162384), ('happening', 0.8059059977531433), ('progressed', 0.8051643967628479)]\n",
      "[('deeply', 0.911064088344574), ('politically', 0.9010434746742249), ('naive', 0.8993453979492188), ('nasty', 0.8992632627487183), ('cruel', 0.898968517780304), ('impatient', 0.8984507918357849), ('angry', 0.8976039886474609), ('challenged', 0.8975568413734436), ('sappy', 0.8970516324043274), ('unnecessarily', 0.8967684507369995)]\n",
      "[('choppy', 0.9843797087669373), ('vague', 0.9829949140548706), ('bland', 0.9773486852645874), ('abrupt', 0.9757471680641174), ('disjointed', 0.9738272428512573), ('shallow', 0.9701089262962341), ('tedious', 0.967339813709259), ('amateurish', 0.9648995995521545), ('gruesome', 0.9645438194274902), ('juvenile', 0.9644474387168884)]\n",
      "[('college', 0.8784793615341187), ('house', 0.8698534965515137), ('party', 0.8371579051017761), ('anniversary', 0.8350576758384705), ('crowd', 0.8131110072135925), ('aunt', 0.812798798084259), ('twin', 0.8086947202682495), ('youth', 0.8086585998535156), ('assignment', 0.8079878687858582), ('ex', 0.8074445724487305)]\n"
     ]
    }
   ],
   "source": [
    "print(word_vectors.similar_by_word(\"books\"))\n",
    "print(word_vectors.similar_by_word(\"games\"))\n",
    "print(word_vectors.similar_by_word(\"gaming\"))\n",
    "print(word_vectors.similar_by_word(\"board\"))\n",
    "print(word_vectors.similar_by_word(\"computer\"))\n",
    "print(word_vectors.similar_by_word(\"science\"))\n",
    "print(word_vectors.similar_by_word(\"review\"))\n",
    "print(word_vectors.similar_by_word(\"recruit\"))\n",
    "print(word_vectors.similar_by_word(\"hell\"))\n",
    "print(word_vectors.similar_by_word(\"crazy\"))\n",
    "print(word_vectors.similar_by_word(\"convoluted\"))\n",
    "print(word_vectors.similar_by_word(\"school\"))"
   ]
  },
  {
   "cell_type": "code",
   "execution_count": 217,
   "metadata": {},
   "outputs": [],
   "source": [
    "def get_analogy(a, b, c):\n",
    "    return word_vectors.most_similar(positive=[b, c], negative=[a])[0][0]"
   ]
  },
  {
   "cell_type": "code",
   "execution_count": 219,
   "metadata": {},
   "outputs": [
    {
     "data": {
      "text/plain": [
       "'king'"
      ]
     },
     "execution_count": 219,
     "metadata": {},
     "output_type": "execute_result"
    }
   ],
   "source": [
    "get_analogy('woman', 'man', 'queen')"
   ]
  },
  {
   "cell_type": "code",
   "execution_count": 223,
   "metadata": {},
   "outputs": [
    {
     "data": {
      "text/plain": [
       "'teenager'"
      ]
     },
     "execution_count": 223,
     "metadata": {},
     "output_type": "execute_result"
    }
   ],
   "source": [
    "get_analogy('brave', 'kid', 'foolish')"
   ]
  },
  {
   "cell_type": "code",
   "execution_count": 225,
   "metadata": {},
   "outputs": [
    {
     "data": {
      "text/plain": [
       "'king'"
      ]
     },
     "execution_count": 225,
     "metadata": {},
     "output_type": "execute_result"
    }
   ],
   "source": [
    "get_analogy('woman', 'man', 'queen')"
   ]
  },
  {
   "cell_type": "code",
   "execution_count": 227,
   "metadata": {},
   "outputs": [
    {
     "data": {
      "text/plain": [
       "'enjoyable'"
      ]
     },
     "execution_count": 227,
     "metadata": {},
     "output_type": "execute_result"
    }
   ],
   "source": [
    "get_analogy('game', 'entertaining', 'fitness')"
   ]
  },
  {
   "cell_type": "code",
   "execution_count": 229,
   "metadata": {},
   "outputs": [
    {
     "data": {
      "text/plain": [
       "'thriller'"
      ]
     },
     "execution_count": 229,
     "metadata": {},
     "output_type": "execute_result"
    }
   ],
   "source": [
    "get_analogy(\"funny\", \"comedy\", \"gripping\")"
   ]
  },
  {
   "cell_type": "code",
   "execution_count": 251,
   "metadata": {},
   "outputs": [
    {
     "data": {
      "text/plain": [
       "'gratuitous'"
      ]
     },
     "execution_count": 251,
     "metadata": {},
     "output_type": "execute_result"
    }
   ],
   "source": [
    "get_analogy(\"romance\", \"cliche\", \"violence\")"
   ]
  },
  {
   "cell_type": "code",
   "execution_count": null,
   "metadata": {},
   "outputs": [],
   "source": []
  }
 ],
 "metadata": {
  "kernelspec": {
   "display_name": "Python 3 (ipykernel)",
   "language": "python",
   "name": "python3"
  },
  "language_info": {
   "codemirror_mode": {
    "name": "ipython",
    "version": 3
   },
   "file_extension": ".py",
   "mimetype": "text/x-python",
   "name": "python",
   "nbconvert_exporter": "python",
   "pygments_lexer": "ipython3",
   "version": "3.12.7"
  }
 },
 "nbformat": 4,
 "nbformat_minor": 4
}

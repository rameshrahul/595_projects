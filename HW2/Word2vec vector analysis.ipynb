{
 "cells": [
  {
   "cell_type": "markdown",
   "metadata": {},
   "source": [
    "# Homework 2: Word2vec Vector Analysis\n",
    "\n",
    "*Important Note:* Start this notebook only after you've gotten your word2vec model up and running!\n",
    "\n",
    "Many NLP packages support working with word embeddings. In this notebook you can work through the various problems assigned in Task 3. We've provided the basic functionality for loading word vectors using [Gensim](https://radimrehurek.com/gensim/models/keyedvectors.html), a good library for learning and using word vectors, and for working with the vectors. \n",
    "\n",
    "One of the fun parts of word vectors is getting a sense of what they learned. Feel free to explore the vectors here!"
   ]
  },
  {
   "cell_type": "code",
   "execution_count": 147,
   "metadata": {},
   "outputs": [],
   "source": [
    "from gensim.models import KeyedVectors\n",
    "from gensim.test.utils import datapath"
   ]
  },
  {
   "cell_type": "code",
   "execution_count": 173,
   "metadata": {},
   "outputs": [],
   "source": [
    "word_vectors = KeyedVectors.load_word2vec_format('ramesh_model_good.kv', binary=False)"
   ]
  },
  {
   "cell_type": "code",
   "execution_count": 174,
   "metadata": {},
   "outputs": [
    {
     "data": {
      "text/plain": [
       "array([ 0.35611558, -0.04639298,  0.04918285, -0.29415846, -0.43418157,\n",
       "        0.02380595,  0.12534831, -0.2602761 ,  0.19978546,  0.22540504,\n",
       "       -0.28076673, -0.01104881,  0.13856332, -0.18960899, -0.18103701,\n",
       "       -0.26160547, -0.12171465,  0.05369071, -0.02821935,  0.07035509,\n",
       "       -0.5994824 ,  0.19772732,  0.22195497,  0.45402548, -0.4557783 ,\n",
       "       -0.30425677,  0.3097114 , -0.5172505 , -0.44334316, -0.00387928,\n",
       "        0.2843511 ,  0.14733063, -0.3599137 ,  0.35999843,  0.45544827,\n",
       "        0.15477376, -0.18045063,  0.21865   ,  0.11209791,  0.42028227,\n",
       "        0.41353816,  0.17414522,  0.2965748 ,  0.08168495, -0.2943307 ,\n",
       "       -0.14765882,  0.26574123, -0.22883414,  0.51856285,  0.11191612],\n",
       "      dtype=float32)"
      ]
     },
     "execution_count": 174,
     "metadata": {},
     "output_type": "execute_result"
    }
   ],
   "source": [
    "word_vectors['the']"
   ]
  },
  {
   "cell_type": "code",
   "execution_count": 177,
   "metadata": {},
   "outputs": [
    {
     "name": "stdout",
     "output_type": "stream",
     "text": [
      "[('manga', 0.8354611396789551), ('comics', 0.7803016304969788), ('book', 0.7693591713905334), ('novels', 0.7653971314430237), ('muppets', 0.7379298806190491), ('harry', 0.7375914454460144), ('outlander', 0.7362992167472839), ('tarzan', 0.7263094782829285), ('hobbit', 0.7239122986793518), ('rocky', 0.7094232439994812)]\n",
      "[('files', 0.8951413631439209), ('shorts', 0.8835272789001465), ('towers', 0.8743922710418701), ('serials', 0.8624322414398193), ('turtles', 0.8554927110671997), ('monkeys', 0.8546125888824463), ('tenors', 0.8527616262435913), ('albums', 0.8522442579269409), ('companies', 0.8420770764350891), ('installments', 0.8403503894805908)]\n",
      "[('chopper', 0.9458749294281006), ('prosecution', 0.9425068497657776), ('zeitgeist', 0.9418087005615234), ('evils', 0.9401167035102844), ('seedy', 0.9386575222015381), ('monarchy', 0.9377653002738953), ('orthodox', 0.9371055960655212), ('evolutionary', 0.9361525177955627), ('superheros', 0.9352555871009827), ('underbelly', 0.9329980611801147)]\n",
      "[('stage', 0.8522922992706299), ('map', 0.8494336009025574), ('screen', 0.8223742842674255), ('chalkboard', 0.8219911456108093), ('floor', 0.8204448223114014), ('cake', 0.8204043507575989), ('parking', 0.8170256614685059), ('wikipedia', 0.8125417828559875), ('sheet', 0.8034169673919678), ('web', 0.8017895817756653)]\n",
      "[('pc', 0.926310122013092), ('ps3', 0.9261817336082458), ('xbox', 0.8962753415107727), ('dvr', 0.8947835564613342), ('playstation', 0.8901344537734985), ('internet', 0.8880925178527832), ('laptop', 0.8877314329147339), ('tablet', 0.8767723441123962), ('behalf', 0.8763387799263), ('shelf', 0.8743831515312195)]\n",
      "[('fantasy', 0.9347485899925232), ('crime', 0.9192668795585632), ('sports', 0.9134150743484497), ('paranormal', 0.9014143943786621), ('supernatural', 0.8907349705696106), ('slasher', 0.8902588486671448), ('scifi', 0.8859637975692749), ('martial', 0.8835641741752625), ('british', 0.8771040439605713), ('zombie', 0.8702757954597473)]\n",
      "[('feedback', 0.7832376956939697), ('comment', 0.7687227129936218), ('critique', 0.7344633936882019), ('rating', 0.7254562973976135), ('cause', 0.7231029272079468), ('ee', 0.7128600478172302), ('sixth', 0.7103104591369629), ('sum', 0.7099015116691589), ('cuz', 0.7044260501861572), ('credit', 0.7030194997787476)]\n",
      "[('ignite', 0.9538758993148804), ('thwart', 0.9526117444038391), ('barf', 0.950463056564331), ('dumbbells', 0.9495094418525696), ('pakistan', 0.9481087327003479), ('terminally', 0.9467196464538574), ('progressing', 0.9460122585296631), ('determining', 0.9458662867546082), ('avenge', 0.9456772208213806), ('assassinate', 0.9439542889595032)]\n",
      "[('heck', 0.7991721630096436), ('fragile', 0.7673330903053284), ('possible', 0.7482854127883911), ('relates', 0.7466306686401367), ('corrupt', 0.7372890114784241), ('execute', 0.7258445620536804), ('kristin', 0.7232258915901184), ('precisely', 0.7179242968559265), ('interacted', 0.7144486904144287), ('reckless', 0.7138693332672119)]\n",
      "[('dumb', 0.8496875762939453), ('nasty', 0.849391520023346), ('hopeless', 0.846573531627655), ('sappy', 0.843395471572876), ('tough', 0.8432925939559937), ('tame', 0.8377991318702698), ('messy', 0.8336606621742249), ('rambling', 0.8329018354415894), ('weird', 0.8315144181251526), ('freaky', 0.8302717804908752)]\n",
      "[('shallow', 0.9595655202865601), ('simplistic', 0.9563407897949219), ('contrived', 0.9558207392692566), ('bland', 0.9554823637008667), ('trite', 0.9524484276771545), ('formulaic', 0.950147271156311), ('disconnected', 0.9501238465309143), ('abrupt', 0.9482882022857666), ('confusing', 0.948015034198761), ('childish', 0.9477996230125427)]\n",
      "[('college', 0.8715739250183105), ('schoolers', 0.7754194736480713), ('party', 0.7707502841949463), ('noon', 0.7593621611595154), ('house', 0.7391626834869385), ('wedding', 0.7313093543052673), ('schooler', 0.7277821898460388), ('elementary', 0.7193634510040283), ('octane', 0.7129822373390198), ('machina', 0.7117348313331604)]\n"
     ]
    }
   ],
   "source": [
    "print(word_vectors.similar_by_word(\"books\"))\n",
    "print(word_vectors.similar_by_word(\"games\"))\n",
    "print(word_vectors.similar_by_word(\"gaming\"))\n",
    "print(word_vectors.similar_by_word(\"board\"))\n",
    "print(word_vectors.similar_by_word(\"computer\"))\n",
    "print(word_vectors.similar_by_word(\"science\"))\n",
    "print(word_vectors.similar_by_word(\"review\"))\n",
    "print(word_vectors.similar_by_word(\"recruit\"))\n",
    "print(word_vectors.similar_by_word(\"hell\"))\n",
    "print(word_vectors.similar_by_word(\"crazy\"))\n",
    "print(word_vectors.similar_by_word(\"convoluted\"))\n",
    "print(word_vectors.similar_by_word(\"school\"))"
   ]
  },
  {
   "cell_type": "code",
   "execution_count": 179,
   "metadata": {},
   "outputs": [],
   "source": [
    "def get_analogy(a, b, c):\n",
    "    return word_vectors.most_similar(positive=[b, c], negative=[a])[0][0]"
   ]
  },
  {
   "cell_type": "code",
   "execution_count": 183,
   "metadata": {},
   "outputs": [
    {
     "data": {
      "text/plain": [
       "'joker'"
      ]
     },
     "execution_count": 183,
     "metadata": {},
     "output_type": "execute_result"
    }
   ],
   "source": [
    "get_analogy('woman', 'man', 'queen')"
   ]
  },
  {
   "cell_type": "code",
   "execution_count": 185,
   "metadata": {},
   "outputs": [
    {
     "data": {
      "text/plain": [
       "'unlikeable'"
      ]
     },
     "execution_count": 185,
     "metadata": {},
     "output_type": "execute_result"
    }
   ],
   "source": [
    "get_analogy('man', 'woman', 'aggressive')"
   ]
  },
  {
   "cell_type": "code",
   "execution_count": 187,
   "metadata": {},
   "outputs": [
    {
     "data": {
      "text/plain": [
       "'teenager'"
      ]
     },
     "execution_count": 187,
     "metadata": {},
     "output_type": "execute_result"
    }
   ],
   "source": [
    "get_analogy('brave', 'kid', 'foolish')"
   ]
  },
  {
   "cell_type": "code",
   "execution_count": 189,
   "metadata": {},
   "outputs": [
    {
     "data": {
      "text/plain": [
       "'joker'"
      ]
     },
     "execution_count": 189,
     "metadata": {},
     "output_type": "execute_result"
    }
   ],
   "source": [
    "get_analogy('woman', 'man', 'queen')"
   ]
  },
  {
   "cell_type": "code",
   "execution_count": 205,
   "metadata": {},
   "outputs": [
    {
     "data": {
      "text/plain": [
       "'enjoyable'"
      ]
     },
     "execution_count": 205,
     "metadata": {},
     "output_type": "execute_result"
    }
   ],
   "source": [
    "get_analogy('game', 'entertaining', 'fitness')"
   ]
  },
  {
   "cell_type": "code",
   "execution_count": 193,
   "metadata": {},
   "outputs": [
    {
     "data": {
      "text/plain": [
       "'drama'"
      ]
     },
     "execution_count": 193,
     "metadata": {},
     "output_type": "execute_result"
    }
   ],
   "source": [
    "get_analogy(\"funny\", \"comedy\", \"gripping\")"
   ]
  },
  {
   "cell_type": "code",
   "execution_count": null,
   "metadata": {},
   "outputs": [],
   "source": []
  }
 ],
 "metadata": {
  "kernelspec": {
   "display_name": "Python 3 (ipykernel)",
   "language": "python",
   "name": "python3"
  },
  "language_info": {
   "codemirror_mode": {
    "name": "ipython",
    "version": 3
   },
   "file_extension": ".py",
   "mimetype": "text/x-python",
   "name": "python",
   "nbconvert_exporter": "python",
   "pygments_lexer": "ipython3",
   "version": "3.12.7"
  }
 },
 "nbformat": 4,
 "nbformat_minor": 4
}

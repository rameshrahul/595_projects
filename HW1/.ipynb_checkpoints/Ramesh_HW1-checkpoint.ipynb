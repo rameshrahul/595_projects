{
 "cells": [
  {
   "cell_type": "code",
   "execution_count": 1,
   "id": "0192c2c2-3059-4e7c-bb6a-edaf96f9c5c5",
   "metadata": {},
   "outputs": [],
   "source": [
    "import numpy as np\n",
    "import re\n",
    "import torch\n",
    "from torch.utils.data import Dataset, DataLoader\n",
    "from scipy import sparse\n",
    "from collections import Counter\n",
    "from tqdm import tqdm\n",
    "import random\n",
    "import matplotlib.pyplot as plt\n",
    "import os    \n",
    "os.environ['KMP_DUPLICATE_LIB_OK'] = 'True'"
   ]
  },
  {
   "cell_type": "markdown",
   "id": "30bffdf7-f47e-4774-986b-21c7e573dbaa",
   "metadata": {},
   "source": [
    "## Part 1: Representing Text Data"
   ]
  },
  {
   "cell_type": "markdown",
   "id": "28ffe4e1-d23c-4f6b-b12c-f9383c699c41",
   "metadata": {},
   "source": [
    "### Problem 1"
   ]
  },
  {
   "cell_type": "code",
   "execution_count": 4,
   "id": "f0c6c28a-cfd9-4845-bbd4-9017441f74d0",
   "metadata": {},
   "outputs": [],
   "source": [
    "def tokenize(text):\n",
    "    return text.split(' ')"
   ]
  },
  {
   "cell_type": "markdown",
   "id": "33e75276-626e-4672-81a4-fe5d1257742f",
   "metadata": {},
   "source": [
    "### Problem 2"
   ]
  },
  {
   "cell_type": "code",
   "execution_count": 5,
   "id": "d4cabc7c-f827-4427-bfbd-f66e59c0ba40",
   "metadata": {},
   "outputs": [],
   "source": [
    "def better_tokenize(text):\n",
    "    text = str(text).lower()                            # convert into a lowercase to standardize it\n",
    "    # re.sub is a function of re that replaces occurences of a pattern in a string with another string\n",
    "    text = re.sub(\"'\", \"\", text)                        # search for ' , replace with empty string\n",
    "    text = re.sub(\"[^a-z0-9]\",\" \", text)                # Replaces non-alphanumeric characters with spaces.\n",
    "    #redd = re.sub(r\"\\b\\w{1,3}\\b\",\" \", redd)             # Removes words with less than 4 characters\n",
    "    \n",
    "    return text.split()        \n"
   ]
  },
  {
   "cell_type": "markdown",
   "id": "5c2862a1-e1d6-4677-8883-15937960ba1c",
   "metadata": {},
   "source": [
    "### Problem 3"
   ]
  },
  {
   "cell_type": "code",
   "execution_count": 50,
   "id": "813ffc52-3dd5-4d67-a5b4-ad380b093f99",
   "metadata": {},
   "outputs": [],
   "source": [
    "def threshold_and_tokenize(doc_list, tokenize_alg, threshold=0):\n",
    "    all_tokens = []\n",
    "\n",
    "    tokenized_docs = []\n",
    "    for doc in tqdm(doc_list, total=len(doc_list), desc=\"tokenizing each doc\"):\n",
    "        doc = tokenize_alg(doc)\n",
    "        all_tokens.extend(doc)\n",
    "        tokenized_docs.append(doc)\n",
    "\n",
    "    if threshold == 0:\n",
    "        return tokenized_docs\n",
    "        \n",
    "    total_counter = Counter(all_tokens)\n",
    "\n",
    "    thresholded_words = list(set([word for word in total_counter if total_counter[word] >= threshold]))\n",
    "    word_col_map = dict()\n",
    "    for i, word in enumerate(thresholded_words):\n",
    "        word_col_map[word] = i\n",
    "\n",
    "    return tokenized_docs, word_col_map\n",
    "    \n",
    "def generate_tdm(tokenized_docs, word_col_map):\n",
    "    row_ind = []\n",
    "    col_ind = []\n",
    "    data = []\n",
    "    for row, tokenized_doc in tqdm(enumerate(tokenized_docs), total=len(tokenized_docs), desc=\"building sparse matrix representation\"):\n",
    "        counter = Counter(tokenized_doc)\n",
    "        for word, count in counter.items():\n",
    "            if word in word_col_map:\n",
    "                row_ind.append(row)\n",
    "                col_ind.append(word_col_map[word])\n",
    "                data.append(count)\n",
    "    return sparse.csr_matrix((data, (row_ind, col_ind)))"
   ]
  },
  {
   "cell_type": "markdown",
   "id": "bd48dbb4-eaef-462a-9ca9-bba514a20123",
   "metadata": {},
   "source": [
    "### read input in and process"
   ]
  },
  {
   "cell_type": "code",
   "execution_count": 9,
   "id": "5b403269-934d-4265-80dc-be0a1bb70268",
   "metadata": {},
   "outputs": [],
   "source": [
    "import csv\n",
    "\n",
    "def read_file(filename, full_data=False):\n",
    "    doc_list = []\n",
    "    if full_data:\n",
    "        y = []\n",
    "        model = []\n",
    "    with open(filename, 'r', newline='', encoding=\"utf8\") as file:\n",
    "        csv_reader = csv.reader(file)\n",
    "        header = next(csv_reader)\n",
    "        for row in csv_reader:\n",
    "            if full_data:\n",
    "                doc_list.append(row[2])\n",
    "                y.append(1 if row[3].lower() == 'true' else 0)\n",
    "                model.append(row[1].lower())\n",
    "            else:\n",
    "                doc_list.append(row[1])\n",
    "    if full_data:\n",
    "        y = np.array(y)\n",
    "        model = np.array(model)\n",
    "        return doc_list, y, model\n",
    "    else:\n",
    "        return doc_list\n"
   ]
  },
  {
   "cell_type": "code",
   "execution_count": 10,
   "id": "668c2b93-a118-4173-8481-4a6bf4d17629",
   "metadata": {},
   "outputs": [
    {
     "name": "stderr",
     "output_type": "stream",
     "text": [
      "tokenizing each doc: 100%|████████████████████████████████████████████████████| 55002/55002 [00:01<00:00, 45021.66it/s]\n",
      "tokenizing each doc: 100%|██████████████████████████████████████████████████████| 5000/5000 [00:00<00:00, 47107.43it/s]\n",
      "tokenizing each doc: 100%|████████████████████████████████████████████████████| 10000/10000 [00:00<00:00, 50588.27it/s]\n",
      "building sparse matrix representation: 100%|██████████████████████████████████| 55002/55002 [00:01<00:00, 33162.22it/s]\n",
      "building sparse matrix representation: 100%|████████████████████████████████████| 5000/5000 [00:00<00:00, 30278.36it/s]\n",
      "building sparse matrix representation: 100%|██████████████████████████████████| 10000/10000 [00:00<00:00, 29151.67it/s]\n"
     ]
    }
   ],
   "source": [
    "# read in data\n",
    "train_doc_list, y_train, model_train = read_file('train.csv', True)\n",
    "dev_doc_list, y_dev, model_dev = read_file('dev.csv', True)\n",
    "test_doc_list = read_file('test.student.csv', False)\n",
    "\n",
    "tokenize_alg = tokenize\n",
    "\n",
    "train_tokenized_docs, word_col_map = threshold_and_tokenize(train_doc_list, tokenize_alg, 250)\n",
    "dev_tokenized_docs = threshold_and_tokenize(dev_doc_list, tokenize_alg)\n",
    "test_tokenized_docs = threshold_and_tokenize(test_doc_list, tokenize_alg)\n",
    "\n",
    "X_train = generate_tdm(train_tokenized_docs, word_col_map)\n",
    "X_dev = generate_tdm(dev_tokenized_docs, word_col_map)\n",
    "X_test = generate_tdm(test_tokenized_docs, word_col_map)"
   ]
  },
  {
   "cell_type": "markdown",
   "id": "28c70978-c320-4650-9076-6a957665bf07",
   "metadata": {},
   "source": [
    "## Part 2: Logistic Regression in numpy"
   ]
  },
  {
   "cell_type": "markdown",
   "id": "6c55470e-a891-4e01-bb9b-ce56c1b9b20a",
   "metadata": {},
   "source": [
    "### Problem 4"
   ]
  },
  {
   "cell_type": "code",
   "execution_count": 12,
   "id": "dbd869a5-f9e6-4093-84d2-6137d5ef0cc6",
   "metadata": {},
   "outputs": [],
   "source": [
    "def sigmoid(x):\n",
    "    return np.reciprocal(np.exp(-1*x) + 1) "
   ]
  },
  {
   "cell_type": "markdown",
   "id": "95597102-411d-4bf7-aa50-f0d4bb9da079",
   "metadata": {},
   "source": [
    "### Problem 5"
   ]
  },
  {
   "cell_type": "code",
   "execution_count": 13,
   "id": "957f8832-03dc-4d4b-89d6-5bb0b996568c",
   "metadata": {},
   "outputs": [],
   "source": [
    "def log_likelihood(X, y, beta):\n",
    "    predictions = X.dot(beta)\n",
    "    predictions = np.asarray(predictions).flatten()\n",
    "    y = np.asarray(y).flatten()\n",
    "    \n",
    "    return np.sum(y * predictions - np.logaddexp(0, predictions))"
   ]
  },
  {
   "cell_type": "code",
   "execution_count": 14,
   "id": "4be44bc1-94af-452e-8d68-519e7ac879ae",
   "metadata": {},
   "outputs": [],
   "source": [
    "def compute_gradient(beta, xi, yi):\n",
    "    sig = sigmoid(xi*beta)\n",
    "    return (sig - yi) * xi"
   ]
  },
  {
   "cell_type": "markdown",
   "id": "1d8bac1e-c6e3-4f91-8f05-f3fc9c808825",
   "metadata": {},
   "source": [
    "### Problem 6"
   ]
  },
  {
   "cell_type": "code",
   "execution_count": 76,
   "id": "e25931ee-1ac6-485f-824c-f7d6f5774e19",
   "metadata": {},
   "outputs": [],
   "source": [
    "def train_logistic_regression(X, y, learning_rate, num_steps=-1, threshold=-1, likelihood_interval=50):\n",
    "    X = sparse.hstack([X, np.ones((X.shape[0], 1))]).tocsr()\n",
    "    beta = np.zeros((X.shape[1], 1))\n",
    "\n",
    "    likelihoods = []\n",
    "    count = 0\n",
    "\n",
    "    if num_steps > 0:\n",
    "        for i in tqdm(range(num_steps), desc=\"training logistic regression w/ specified steps\"):\n",
    "            if count%likelihood_interval == 0:\n",
    "                likelihood = log_likelihood(X, y, beta)\n",
    "                likelihoods.append(likelihood)\n",
    "            count += 1\n",
    "\n",
    "            idx = i % X.shape[0]\n",
    "            grad_step = learning_rate*compute_gradient(beta, X[idx], y[idx])\n",
    "            beta -= np.transpose(grad_step)\n",
    "    else:\n",
    "        old_lhood = 0\n",
    "        new_lhood = log_likelihood(X, y, beta)\n",
    "        print(\"initial likelihood\", abs(old_lhood - new_lhood))\n",
    "        while abs(old_lhood - new_lhood) < threshold:\n",
    "            old_lhood = new_lhood\n",
    "            new_lhood = log_likelihood(X, y, beta)\n",
    "            print(new_lhood)\n",
    "            if count%likelihood_interval == 0:\n",
    "                new_lhood.append(likelihood[0])\n",
    "            count += 1\n",
    "\n",
    "            i = random.randint(0, X.shape[0])\n",
    "            grad_step = learning_rate*compute_gradient(beta, X[i], y[i])\n",
    "            beta -= np.transpose(grad_step)\n",
    "    return beta, likelihoods, count"
   ]
  },
  {
   "cell_type": "markdown",
   "id": "2ac803ed-6f06-4fd0-a61a-5d2ca3d6fb64",
   "metadata": {},
   "source": [
    "### Problem 7"
   ]
  },
  {
   "cell_type": "code",
   "execution_count": 79,
   "id": "6e34c1c5-3899-4a4b-9c03-7831fe5eff95",
   "metadata": {},
   "outputs": [],
   "source": [
    "def predict(X, beta):\n",
    "    X = sparse.hstack([X, np.ones((X.shape[0], 1))]).tocsr()\n",
    "    return sigmoid(X @ beta)"
   ]
  },
  {
   "cell_type": "markdown",
   "id": "2e7be531-7277-4158-ac87-ac66b63fcba6",
   "metadata": {},
   "source": [
    "### Problem 8: testing model"
   ]
  },
  {
   "cell_type": "code",
   "execution_count": 62,
   "id": "1bbf06d6-1d9a-4c43-a134-9d5feaa46679",
   "metadata": {},
   "outputs": [
    {
     "name": "stderr",
     "output_type": "stream",
     "text": [
      "training logistic regression w/ specified steps: 100%|███████████████████████████| 1000/1000 [00:00<00:00, 3755.59it/s]\n"
     ]
    }
   ],
   "source": [
    "learning_rate = 5e-5\n",
    "num_steps = 1000\n",
    "beta_np_learned, likelihoods, count = train_logistic_regression(X_train, y_train, learning_rate, num_steps=num_steps, likelihood_interval=20)"
   ]
  },
  {
   "cell_type": "code",
   "execution_count": 39,
   "id": "a05e365e-195e-44b5-8a24-ae8b493b79a1",
   "metadata": {},
   "outputs": [
    {
     "data": {
      "image/png": "[encoded data removed]",
      "text/plain": [
       "<Figure size 640x480 with 1 Axes>"
      ]
     },
     "metadata": {},
     "output_type": "display_data"
    }
   ],
   "source": [
    "xaxis = [i*20 for i in range(50)]\n",
    "plt.plot(xaxis, likelihoods)\n",
    "plt.xlabel('Training step')\n",
    "plt.ylabel('Log likelihood')\n",
    "plt.title('Problem 8: Initial likelihood data')\n",
    "plt.show()"
   ]
  },
  {
   "cell_type": "markdown",
   "id": "d69a1639-c14c-4d75-8077-1a3871fa6d5c",
   "metadata": {},
   "source": [
    "### Problem 9: fine-tuning model"
   ]
  },
  {
   "cell_type": "code",
   "execution_count": 81,
   "id": "80662580-1094-47d3-ac46-e2552a76d7bd",
   "metadata": {},
   "outputs": [
    {
     "name": "stdout",
     "output_type": "stream",
     "text": [
      "initial likelihood -38124.48122515811\n"
     ]
    }
   ],
   "source": [
    "learning_rate = 5e-5\n",
    "threshold = 1e-5\n",
    "beta_np_learned, likelihoods, count = train_logistic_regression(X_train, y_train, learning_rate,threshold=threshold, likelihood_interval=100)"
   ]
  },
  {
   "cell_type": "markdown",
   "id": "62af3c68-49a3-4a79-ba20-e89511f7f507",
   "metadata": {},
   "source": [
    "## Part 3"
   ]
  },
  {
   "cell_type": "code",
   "execution_count": 74,
   "id": "16c589ec-b280-4967-bd5b-16ae61eba5d8",
   "metadata": {},
   "outputs": [],
   "source": [
    "def to_sparse_tensor(arr):\n",
    "    #arr = arr.tocoo()\n",
    "    #i = np.vstack((arr.row, arr.col))\n",
    "    #v = arr.data\n",
    "    #return torch.sparse_csr_tensor(i, v, arr.shape)\n",
    "    return torch.sparse_csr_tensor(crow_indices=arr.indptr, col_indices=arr.indices, values=arr.data, size=arr.shape, dtype=torch.float32)"
   ]
  },
  {
   "cell_type": "code",
   "execution_count": 76,
   "id": "650c7c2e-2c82-43d9-b5d6-e0a57645802a",
   "metadata": {},
   "outputs": [],
   "source": [
    "class LogisticRegression(torch.nn.Module):\n",
    "\n",
    "    def __init__(self, num_features):\n",
    "        super().__init__()\n",
    "        self.logistic_layer = torch.nn.Linear(num_features, 1)\n",
    "    \n",
    "    def forward(self, inputs):\n",
    "        return torch.sigmoid(self.logistic_layer(inputs))"
   ]
  },
  {
   "cell_type": "markdown",
   "id": "a66306c7-60f9-441d-b3e0-14bff62978ed",
   "metadata": {},
   "source": [
    "### Training the pytorch network"
   ]
  },
  {
   "cell_type": "code",
   "execution_count": 115,
   "id": "12cc2046-839f-4080-9043-58d950a75e50",
   "metadata": {},
   "outputs": [],
   "source": [
    "# Custom dataset for loading in samples with labels\n",
    "class LogRegDataset(Dataset):\n",
    "    def __init__(self, data, labels):\n",
    "        self.data = data\n",
    "        self.labels = labels\n",
    "\n",
    "    def __len__(self):\n",
    "        return len(self.labels)\n",
    "\n",
    "    def __getitem__(self, idx):\n",
    "        return self.data[idx], self.labels[idx]\n",
    "\n",
    "def collate_fn_labels(batch):\n",
    "    sparse_tensors, labels = zip(*batch)\n",
    "    dense_batch = torch.stack([s.to_dense() for s in sparse_tensors])\n",
    "    labels_batch = torch.tensor(labels)\n",
    "    return dense_batch, labels_batch\n",
    "    \n",
    "def collate_fn_no_labels(batch):\n",
    "    sparse_tensors = batch\n",
    "    dense_batch = torch.stack([s.to_dense() for s in sparse_tensors])\n",
    "    return dense_batch\n",
    "\n",
    "def get_data_loader(X, y=None, shuffle=False, labels=False):\n",
    "    tensor_data = to_sparse_tensor(X)\n",
    "    if labels:\n",
    "        tensor_labels = torch.from_numpy(y).to(torch.float32)\n",
    "        train_data = LogRegDataset(tensor_data, tensor_labels)\n",
    "        return DataLoader(train_data, shuffle=shuffle, batch_size=1, num_workers=0, collate_fn=collate_fn_labels)\n",
    "    else:\n",
    "        return DataLoader(dataset=tensor_data, batch_size=1, shuffle=shuffle, collate_fn=collate_fn_no_labels)\n",
    "    "
   ]
  },
  {
   "cell_type": "code",
   "execution_count": 117,
   "id": "2565d4ea-a252-4a66-bd77-fe074d9afd8e",
   "metadata": {},
   "outputs": [],
   "source": [
    "train_loader = get_data_loader(X_train, y_train, shuffle=True, labels=True)\n",
    "dev_loader = get_data_loader(X_dev, y_dev, shuffle=False, labels=True)\n",
    "test_loader = get_data_loader(X_test)"
   ]
  },
  {
   "cell_type": "code",
   "execution_count": 101,
   "id": "80ddbb0e-6a72-48ea-b4d4-e0a9dffb5a8b",
   "metadata": {},
   "outputs": [],
   "source": [
    "model = LogisticRegression(len(word_col_map)) # number of features\n",
    "\n",
    "lossobj = torch.nn.BCELoss()\n",
    "optimizer = torch.optim.SGD(model.parameters())"
   ]
  },
  {
   "cell_type": "code",
   "execution_count": 133,
   "id": "bb7ae472-ee91-4e69-afed-0608eed5b8fa",
   "metadata": {},
   "outputs": [],
   "source": [
    "def get_prediction_pytorch(model, loader, labels=False):\n",
    "    model.eval()\n",
    "    predictions = []\n",
    "    with torch.no_grad():\n",
    "        if labels:\n",
    "            for data, labels in loader:\n",
    "                predictions.append(model(data))\n",
    "        else:\n",
    "            for data in loader:\n",
    "                predictions.append(model(data))\n",
    "    model.train()\n",
    "    return predictions"
   ]
  },
  {
   "cell_type": "code",
   "execution_count": 103,
   "id": "7eb65fb3-279d-455d-850a-7ed99fcb6733",
   "metadata": {},
   "outputs": [
    {
     "name": "stderr",
     "output_type": "stream",
     "text": [
      "iterating through epochs: 100%|██████████████████████████████████████████████████████████| 1/1 [00:17<00:00, 17.61s/it]\n"
     ]
    }
   ],
   "source": [
    "num_epochs = 1\n",
    "num_rows = X_train.shape[0]\n",
    "model.train()\n",
    "for _ in tqdm(range(num_epochs), desc=\"iterating through epochs\"):\n",
    "    for idx, (data, labels) in enumerate(train_loader):\n",
    "        optimizer.zero_grad()\n",
    "        outputs = model(data).view(-1)\n",
    "        loss = lossobj(outputs, labels)\n",
    "        loss.backward()\n",
    "        optimizer.step()\n",
    "    "
   ]
  },
  {
   "cell_type": "code",
   "execution_count": 135,
   "id": "e9a96c5b-0720-46f1-ba7b-efa1d73458ef",
   "metadata": {},
   "outputs": [],
   "source": [
    "train_predictions = get_prediction_pytorch(model, train_loader, labels=True)"
   ]
  },
  {
   "cell_type": "code",
   "execution_count": 137,
   "id": "a0001a8c-fc50-481c-80d7-e7b3b3a1611d",
   "metadata": {},
   "outputs": [
    {
     "name": "stdout",
     "output_type": "stream",
     "text": [
      "[tensor([[0.8581]]), tensor([[0.0021]]), tensor([[0.9006]]), tensor([[0.7483]]), tensor([[0.8860]]), tensor([[0.9624]]), tensor([[0.8629]]), tensor([[0.8584]]), tensor([[0.8735]]), tensor([[0.7189]])]\n",
      "[0 0 0 0 1 1 1 1 1 0]\n"
     ]
    }
   ],
   "source": [
    "print(train_predictions[0:10])\n",
    "print(y_train[0:10])"
   ]
  },
  {
   "cell_type": "code",
   "execution_count": null,
   "id": "72f5f800-8643-4907-91ba-ff2f0e6de330",
   "metadata": {},
   "outputs": [],
   "source": []
  }
 ],
 "metadata": {
  "kernelspec": {
   "display_name": "Python 3 (ipykernel)",
   "language": "python",
   "name": "python3"
  },
  "language_info": {
   "codemirror_mode": {
    "name": "ipython",
    "version": 3
   },
   "file_extension": ".py",
   "mimetype": "text/x-python",
   "name": "python",
   "nbconvert_exporter": "python",
   "pygments_lexer": "ipython3",
   "version": "3.12.7"
  }
 },
 "nbformat": 4,
 "nbformat_minor": 5
}
